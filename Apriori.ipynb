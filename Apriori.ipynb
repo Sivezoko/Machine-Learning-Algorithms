{
 "cells": [
  {
   "cell_type": "code",
   "execution_count": 1,
   "id": "f34fb3c7",
   "metadata": {},
   "outputs": [
    {
     "name": "stdout",
     "output_type": "stream",
     "text": [
      "Collecting efficient-apriori\n",
      "  Downloading efficient_apriori-2.0.1-py3-none-any.whl (14 kB)\n",
      "Installing collected packages: efficient-apriori\n",
      "Successfully installed efficient-apriori-2.0.1\n",
      "\u001b[33mWARNING: You are using pip version 22.0.4; however, version 22.2.2 is available.\n",
      "You should consider upgrading via the '/opt/anaconda3/bin/python -m pip install --upgrade pip' command.\u001b[0m\u001b[33m\n",
      "\u001b[0m"
     ]
    }
   ],
   "source": [
    "#installing efficient-apriori library/module\n",
    "!pip install efficient-apriori"
   ]
  },
  {
   "cell_type": "code",
   "execution_count": 1,
   "id": "057e1323",
   "metadata": {},
   "outputs": [],
   "source": [
    "\n",
    "transactions=[(1,3,4),\n",
    "(2,3,5),\n",
    "\n",
    "(1,2,3,5),\n",
    "\n",
    "(2,5),\n",
    "\n",
    "(1,3,5)]\n",
    "\n"
   ]
  },
  {
   "cell_type": "code",
   "execution_count": 10,
   "id": "3d43a23d",
   "metadata": {},
   "outputs": [],
   "source": [
    "from efficient_apriori import apriori\n",
    "\n",
    "# our min support is 2, but it has to be expressed as a percentage for efficient-apriori\n",
    "minimum_support = 2/len(transactions) \n",
    "\n",
    "# min confidence allows you to delete rules with low confidence.\n",
    "# to obtain all the rules you can set min_confidence = 0  but now we will set it to 0.6\n",
    "min_confidence = 0.6\n",
    "itemsets, rules = apriori(transactions, min_support=minimum_support, min_confidence=min_confidence)"
   ]
  },
  {
   "cell_type": "code",
   "execution_count": 11,
   "id": "ba25e5b0",
   "metadata": {
    "scrolled": true
   },
   "outputs": [
    {
     "name": "stdout",
     "output_type": "stream",
     "text": [
      "{1: {(1,): 3, (3,): 4, (2,): 3, (5,): 4}, 2: {(1, 3): 3, (1, 5): 2, (2, 3): 2, (2, 5): 3, (3, 5): 3}, 3: {(1, 3, 5): 2, (2, 3, 5): 2}}\n"
     ]
    }
   ],
   "source": [
    "print(itemsets)"
   ]
  },
  {
   "cell_type": "code",
   "execution_count": 12,
   "id": "97f8a413",
   "metadata": {},
   "outputs": [
    {
     "name": "stdout",
     "output_type": "stream",
     "text": [
      "[{3} -> {1}, {1} -> {3}, {1} -> {5}, {2} -> {3}, {5} -> {2}, {2} -> {5}, {5} -> {3}, {3} -> {5}, {3, 5} -> {1}, {1, 5} -> {3}, {1, 3} -> {5}, {1} -> {3, 5}, {3, 5} -> {2}, {2, 5} -> {3}, {2, 3} -> {5}, {2} -> {3, 5}]\n"
     ]
    }
   ],
   "source": [
    "print(rules)"
   ]
  },
  {
   "cell_type": "code",
   "execution_count": 13,
   "id": "14a0208f",
   "metadata": {},
   "outputs": [
    {
     "name": "stdout",
     "output_type": "stream",
     "text": [
      "{3} -> {1} (conf: 0.750, supp: 0.600, lift: 1.250, conv: 1.600)\n",
      "{1} -> {3} (conf: 1.000, supp: 0.600, lift: 1.250, conv: 200000000.000)\n",
      "{1} -> {5} (conf: 0.667, supp: 0.400, lift: 0.833, conv: 0.600)\n",
      "{2} -> {3} (conf: 0.667, supp: 0.400, lift: 0.833, conv: 0.600)\n",
      "{5} -> {2} (conf: 0.750, supp: 0.600, lift: 1.250, conv: 1.600)\n",
      "{2} -> {5} (conf: 1.000, supp: 0.600, lift: 1.250, conv: 200000000.000)\n",
      "{5} -> {3} (conf: 0.750, supp: 0.600, lift: 0.938, conv: 0.800)\n",
      "{3} -> {5} (conf: 0.750, supp: 0.600, lift: 0.938, conv: 0.800)\n",
      "{3, 5} -> {1} (conf: 0.667, supp: 0.400, lift: 1.111, conv: 1.200)\n",
      "{1, 5} -> {3} (conf: 1.000, supp: 0.400, lift: 1.250, conv: 200000000.000)\n",
      "{1, 3} -> {5} (conf: 0.667, supp: 0.400, lift: 0.833, conv: 0.600)\n",
      "{1} -> {3, 5} (conf: 0.667, supp: 0.400, lift: 1.111, conv: 1.200)\n",
      "{3, 5} -> {2} (conf: 0.667, supp: 0.400, lift: 1.111, conv: 1.200)\n",
      "{2, 5} -> {3} (conf: 0.667, supp: 0.400, lift: 0.833, conv: 0.600)\n",
      "{2, 3} -> {5} (conf: 1.000, supp: 0.400, lift: 1.250, conv: 200000000.000)\n",
      "{2} -> {3, 5} (conf: 0.667, supp: 0.400, lift: 1.111, conv: 1.200)\n"
     ]
    }
   ],
   "source": [
    "for rule in rules:\n",
    "  print(rule)"
   ]
  }
 ],
 "metadata": {
  "kernelspec": {
   "display_name": "Python 3 (ipykernel)",
   "language": "python",
   "name": "python3"
  },
  "language_info": {
   "codemirror_mode": {
    "name": "ipython",
    "version": 3
   },
   "file_extension": ".py",
   "mimetype": "text/x-python",
   "name": "python",
   "nbconvert_exporter": "python",
   "pygments_lexer": "ipython3",
   "version": "3.8.8"
  }
 },
 "nbformat": 4,
 "nbformat_minor": 5
}
