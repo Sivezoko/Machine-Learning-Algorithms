{
 "cells": [
  {
   "cell_type": "code",
   "execution_count": 1,
   "id": "ba8a6e50",
   "metadata": {},
   "outputs": [],
   "source": [
    "import pandas as pd \n",
    "import numpy as np \n",
    "from matplotlib import pyplot as plt\n",
    "from sklearn import metrics as m "
   ]
  },
  {
   "cell_type": "code",
   "execution_count": 2,
   "id": "e2d02e64",
   "metadata": {},
   "outputs": [],
   "source": [
    "d1=pd.read_csv('Advertising_Sales-4.csv')"
   ]
  },
  {
   "cell_type": "code",
   "execution_count": 3,
   "id": "a2f5b808",
   "metadata": {},
   "outputs": [
    {
     "data": {
      "text/html": [
       "<div>\n",
       "<style scoped>\n",
       "    .dataframe tbody tr th:only-of-type {\n",
       "        vertical-align: middle;\n",
       "    }\n",
       "\n",
       "    .dataframe tbody tr th {\n",
       "        vertical-align: top;\n",
       "    }\n",
       "\n",
       "    .dataframe thead th {\n",
       "        text-align: right;\n",
       "    }\n",
       "</style>\n",
       "<table border=\"1\" class=\"dataframe\">\n",
       "  <thead>\n",
       "    <tr style=\"text-align: right;\">\n",
       "      <th></th>\n",
       "      <th>Unnamed: 0</th>\n",
       "      <th>TV</th>\n",
       "      <th>Radio</th>\n",
       "      <th>Newspaper</th>\n",
       "      <th>Sales</th>\n",
       "    </tr>\n",
       "  </thead>\n",
       "  <tbody>\n",
       "    <tr>\n",
       "      <th>Unnamed: 0</th>\n",
       "      <td>1.000000</td>\n",
       "      <td>0.017715</td>\n",
       "      <td>-0.110680</td>\n",
       "      <td>-0.154944</td>\n",
       "      <td>-0.051616</td>\n",
       "    </tr>\n",
       "    <tr>\n",
       "      <th>TV</th>\n",
       "      <td>0.017715</td>\n",
       "      <td>1.000000</td>\n",
       "      <td>0.054809</td>\n",
       "      <td>0.056648</td>\n",
       "      <td>0.782224</td>\n",
       "    </tr>\n",
       "    <tr>\n",
       "      <th>Radio</th>\n",
       "      <td>-0.110680</td>\n",
       "      <td>0.054809</td>\n",
       "      <td>1.000000</td>\n",
       "      <td>0.354104</td>\n",
       "      <td>0.576223</td>\n",
       "    </tr>\n",
       "    <tr>\n",
       "      <th>Newspaper</th>\n",
       "      <td>-0.154944</td>\n",
       "      <td>0.056648</td>\n",
       "      <td>0.354104</td>\n",
       "      <td>1.000000</td>\n",
       "      <td>0.228299</td>\n",
       "    </tr>\n",
       "    <tr>\n",
       "      <th>Sales</th>\n",
       "      <td>-0.051616</td>\n",
       "      <td>0.782224</td>\n",
       "      <td>0.576223</td>\n",
       "      <td>0.228299</td>\n",
       "      <td>1.000000</td>\n",
       "    </tr>\n",
       "  </tbody>\n",
       "</table>\n",
       "</div>"
      ],
      "text/plain": [
       "            Unnamed: 0        TV     Radio  Newspaper     Sales\n",
       "Unnamed: 0    1.000000  0.017715 -0.110680  -0.154944 -0.051616\n",
       "TV            0.017715  1.000000  0.054809   0.056648  0.782224\n",
       "Radio        -0.110680  0.054809  1.000000   0.354104  0.576223\n",
       "Newspaper    -0.154944  0.056648  0.354104   1.000000  0.228299\n",
       "Sales        -0.051616  0.782224  0.576223   0.228299  1.000000"
      ]
     },
     "execution_count": 3,
     "metadata": {},
     "output_type": "execute_result"
    }
   ],
   "source": [
    "d1.corr()"
   ]
  },
  {
   "cell_type": "code",
   "execution_count": 4,
   "id": "4d4628ce",
   "metadata": {},
   "outputs": [],
   "source": [
    "x=d1[[\"TV\"]]"
   ]
  },
  {
   "cell_type": "code",
   "execution_count": 5,
   "id": "1cd2a860",
   "metadata": {},
   "outputs": [],
   "source": [
    "y=d1.Sales"
   ]
  },
  {
   "cell_type": "code",
   "execution_count": 6,
   "id": "3de0d4d2",
   "metadata": {},
   "outputs": [],
   "source": [
    "from sklearn.model_selection import train_test_split\n",
    "x_train,x_test,y_train,y_test=train_test_split(x,y,test_size=0.2,random_state=1 )"
   ]
  },
  {
   "cell_type": "code",
   "execution_count": 7,
   "id": "ab05409a",
   "metadata": {},
   "outputs": [
    {
     "data": {
      "text/plain": [
       "LinearRegression()"
      ]
     },
     "execution_count": 7,
     "metadata": {},
     "output_type": "execute_result"
    }
   ],
   "source": [
    "from sklearn.linear_model import LinearRegression\n",
    "linreg=LinearRegression()\n",
    "linreg.fit(x_train,y_train)"
   ]
  },
  {
   "cell_type": "code",
   "execution_count": 8,
   "id": "6769ef8c",
   "metadata": {},
   "outputs": [],
   "source": [
    "y_pred=linreg.predict(x_test)"
   ]
  },
  {
   "cell_type": "code",
   "execution_count": 9,
   "id": "2065301a",
   "metadata": {},
   "outputs": [],
   "source": [
    "from sklearn import metrics as m "
   ]
  },
  {
   "cell_type": "code",
   "execution_count": 10,
   "id": "aa8f2843",
   "metadata": {},
   "outputs": [
    {
     "data": {
      "text/plain": [
       "10.859345325608269"
      ]
     },
     "execution_count": 10,
     "metadata": {},
     "output_type": "execute_result"
    }
   ],
   "source": [
    "m.mean_squared_error(y_test,y_pred)"
   ]
  },
  {
   "cell_type": "code",
   "execution_count": 11,
   "id": "6ea0d6f0",
   "metadata": {},
   "outputs": [
    {
     "data": {
      "text/plain": [
       "3.2953520791575928"
      ]
     },
     "execution_count": 11,
     "metadata": {},
     "output_type": "execute_result"
    }
   ],
   "source": [
    "np.sqrt(m.mean_squared_error(y_test,y_pred ))"
   ]
  },
  {
   "cell_type": "markdown",
   "id": "764a25d6",
   "metadata": {},
   "source": [
    "x_train, y_train --->model building\n",
    "\n",
    "x_test, y_test(actual values)-----> y_pred=predict(x_test)--->y_pred(predicted values)\n",
    "r2_score(y_test,y_pred)---->accuracy on testing dataset i.e. x_test\n",
    "\n",
    "x_train, y_train(actual values)-----> y_pred_train=predict(x_train)-----> y_pred_train(predicted values)\n",
    "r2_score(y_train,y_pred_train)------>accuracy on training dataset i.e. x_train"
   ]
  },
  {
   "cell_type": "code",
   "execution_count": 12,
   "id": "ba63924c",
   "metadata": {
    "scrolled": true
   },
   "outputs": [
    {
     "data": {
      "text/plain": [
       "0.41535307148347866"
      ]
     },
     "execution_count": 12,
     "metadata": {},
     "output_type": "execute_result"
    }
   ],
   "source": [
    "m.r2_score(y_test,y_pred)  # accuracy on testing dataset"
   ]
  },
  {
   "cell_type": "code",
   "execution_count": 13,
   "id": "a80f53f3",
   "metadata": {},
   "outputs": [],
   "source": [
    "y_train_pred=linreg.predict(x_train)"
   ]
  },
  {
   "cell_type": "code",
   "execution_count": 14,
   "id": "dc4197cb",
   "metadata": {},
   "outputs": [
    {
     "data": {
      "text/plain": [
       "3.2333166589697684"
      ]
     },
     "execution_count": 14,
     "metadata": {},
     "output_type": "execute_result"
    }
   ],
   "source": [
    "np.sqrt(m.mean_squared_error(y_train,y_train_pred ))"
   ]
  },
  {
   "cell_type": "code",
   "execution_count": 15,
   "id": "6a144ce9",
   "metadata": {},
   "outputs": [
    {
     "data": {
      "text/plain": [
       "0.6393874827744095"
      ]
     },
     "execution_count": 15,
     "metadata": {},
     "output_type": "execute_result"
    }
   ],
   "source": [
    "m.r2_score(y_train,y_train_pred)  #accuracy on training dataset"
   ]
  },
  {
   "cell_type": "markdown",
   "id": "7cdcf75a",
   "metadata": {},
   "source": [
    "# Multiple Linear Regression"
   ]
  },
  {
   "cell_type": "code",
   "execution_count": 16,
   "id": "baa1d6b5",
   "metadata": {},
   "outputs": [],
   "source": [
    "x=d1[['TV','Radio','Newspaper']]"
   ]
  },
  {
   "cell_type": "code",
   "execution_count": 17,
   "id": "17cce326",
   "metadata": {},
   "outputs": [],
   "source": [
    "y=d1.Sales"
   ]
  },
  {
   "cell_type": "code",
   "execution_count": 18,
   "id": "3765080e",
   "metadata": {},
   "outputs": [],
   "source": [
    "x_train,x_test,y_train,y_test=train_test_split(x,y,test_size=0.2,random_state=1 )"
   ]
  },
  {
   "cell_type": "code",
   "execution_count": 19,
   "id": "17f6244b",
   "metadata": {},
   "outputs": [
    {
     "data": {
      "text/plain": [
       "LinearRegression()"
      ]
     },
     "execution_count": 19,
     "metadata": {},
     "output_type": "execute_result"
    }
   ],
   "source": [
    "linreg=LinearRegression()\n",
    "linreg.fit(x_train,y_train)"
   ]
  },
  {
   "cell_type": "code",
   "execution_count": 20,
   "id": "9572fb60",
   "metadata": {},
   "outputs": [
    {
     "name": "stdout",
     "output_type": "stream",
     "text": [
      "2.9079470208164295\n"
     ]
    }
   ],
   "source": [
    "print(linreg.intercept_)  #b"
   ]
  },
  {
   "cell_type": "code",
   "execution_count": 21,
   "id": "999a00cc",
   "metadata": {},
   "outputs": [
    {
     "name": "stdout",
     "output_type": "stream",
     "text": [
      "[0.0468431  0.17854434 0.00258619]\n"
     ]
    }
   ],
   "source": [
    "print(linreg.coef_) #a1- coeff of TV,a2- coeff of Radio,a3- coeff of Newspaper"
   ]
  },
  {
   "cell_type": "markdown",
   "id": "851d6ce8",
   "metadata": {},
   "source": [
    "Sales=0.0468431 X TV + 0.17854434  X Radio + 0.00258619 X Newspaper + 2.9079470208164295"
   ]
  },
  {
   "cell_type": "code",
   "execution_count": 22,
   "id": "e9807d3a",
   "metadata": {},
   "outputs": [],
   "source": [
    "y_pred=linreg.predict(x_test) #x_test-->TV, Radio and Newspaper- 40 records ,(actual values) y_test-->sales"
   ]
  },
  {
   "cell_type": "code",
   "execution_count": 23,
   "id": "bd4a111d",
   "metadata": {},
   "outputs": [
    {
     "data": {
      "text/plain": [
       "1.9918855518287881"
      ]
     },
     "execution_count": 23,
     "metadata": {},
     "output_type": "execute_result"
    }
   ],
   "source": [
    "m.mean_squared_error(y_test,y_pred)"
   ]
  },
  {
   "cell_type": "code",
   "execution_count": 24,
   "id": "c415cc32",
   "metadata": {},
   "outputs": [
    {
     "data": {
      "text/plain": [
       "1.4113417558581578"
      ]
     },
     "execution_count": 24,
     "metadata": {},
     "output_type": "execute_result"
    }
   ],
   "source": [
    "np.sqrt(m.mean_squared_error(y_test,y_pred ))"
   ]
  },
  {
   "cell_type": "markdown",
   "id": "3df13d89",
   "metadata": {},
   "source": [
    "Total records= 200 records\n",
    "Dataset 1: Training Dataset (160 records) (Model has seen this data in training phase)\n",
    "Dataset 2: Testing Dataset  (40 records)  (Unseen data--> Model has no knowledge of this data)"
   ]
  },
  {
   "cell_type": "code",
   "execution_count": 25,
   "id": "94af2262",
   "metadata": {},
   "outputs": [
    {
     "name": "stdout",
     "output_type": "stream",
     "text": [
      "1.7369025901470923\n",
      "0.8959372632325174\n",
      "1.4113417558581578\n",
      "0.8927605914615385\n"
     ]
    }
   ],
   "source": [
    "y_train_pred= linreg.predict(x_train) # training dataset(x_train and y_train)\n",
    "print(np.sqrt(m.mean_squared_error(y_train,y_train_pred)))\n",
    "print(m.r2_score(y_train, y_train_pred)) # accuracy on training dataset\n",
    "\n",
    "y_test_pred= linreg.predict(x_test)\n",
    "print(np.sqrt(m.mean_squared_error(y_test,y_test_pred))) \n",
    "print(m.r2_score(y_test, y_test_pred))# accuracy on testing dataset\n",
    "\n",
    "#Variance=1.7369025901470923(bias of training) - 1.4113417558581578(Bias of testing)"
   ]
  },
  {
   "cell_type": "code",
   "execution_count": 26,
   "id": "dc036503",
   "metadata": {},
   "outputs": [
    {
     "name": "stdout",
     "output_type": "stream",
     "text": [
      "2.9079470208164295\n"
     ]
    }
   ],
   "source": [
    "print(linreg.intercept_)"
   ]
  },
  {
   "cell_type": "code",
   "execution_count": 27,
   "id": "858400da",
   "metadata": {},
   "outputs": [
    {
     "name": "stdout",
     "output_type": "stream",
     "text": [
      "[0.0468431  0.17854434 0.00258619]\n"
     ]
    }
   ],
   "source": [
    "print(linreg.coef_)"
   ]
  },
  {
   "cell_type": "code",
   "execution_count": 28,
   "id": "ae51b974",
   "metadata": {},
   "outputs": [
    {
     "data": {
      "text/plain": [
       "0.8927605914615385"
      ]
     },
     "execution_count": 28,
     "metadata": {},
     "output_type": "execute_result"
    }
   ],
   "source": [
    "m.r2_score(y_test,y_pred)"
   ]
  },
  {
   "cell_type": "markdown",
   "id": "1cd61e02",
   "metadata": {},
   "source": [
    "# Ridge Regression"
   ]
  },
  {
   "cell_type": "code",
   "execution_count": 29,
   "id": "ecaedf36",
   "metadata": {},
   "outputs": [
    {
     "name": "stdout",
     "output_type": "stream",
     "text": [
      "MSE: TRAINING SET\n",
      "1.7369025901472777\n",
      "SCORE: TRAINING SET\n",
      "0.8959372632324952\n",
      "MSE: TESTING SET\n",
      "1.4113421493908445\n",
      "SCORE: TESTING SET\n",
      "0.8927605316571456\n"
     ]
    }
   ],
   "source": [
    "from sklearn.linear_model import Ridge\n",
    "from sklearn.linear_model import Lasso\n",
    "from sklearn.metrics import r2_score\n",
    "\n",
    "rr = Ridge(alpha=0.01)\n",
    "rr.fit(x_train, y_train) #RIDGE REGRESSION\n",
    "\n",
    "pred_train_rr= rr.predict(x_train) #PREDICTIONS ON TRAINING SET\n",
    "\n",
    "print('MSE: TRAINING SET')\n",
    "print(np.sqrt(m.mean_squared_error(y_train,pred_train_rr)))\n",
    "print('SCORE: TRAINING SET')\n",
    "print(r2_score(y_train, pred_train_rr))\n",
    "\n",
    "pred_test_rr= rr.predict(x_test) # PREDICTIONS ON TESTING TEST\n",
    "\n",
    "print('MSE: TESTING SET')\n",
    "print(np.sqrt(m.mean_squared_error(y_test,pred_test_rr))) \n",
    "print('SCORE: TESTING SET')\n",
    "print(r2_score(y_test, pred_test_rr))"
   ]
  },
  {
   "cell_type": "code",
   "execution_count": 30,
   "id": "374ef6e9",
   "metadata": {},
   "outputs": [
    {
     "name": "stdout",
     "output_type": "stream",
     "text": [
      "2.907947854165572\n"
     ]
    }
   ],
   "source": [
    "print(rr.intercept_)"
   ]
  },
  {
   "cell_type": "code",
   "execution_count": 31,
   "id": "28db3769",
   "metadata": {},
   "outputs": [
    {
     "name": "stdout",
     "output_type": "stream",
     "text": [
      "[0.0468431  0.17854429 0.0025862 ]\n"
     ]
    }
   ],
   "source": [
    "print(rr.coef_)"
   ]
  },
  {
   "cell_type": "markdown",
   "id": "7e4ab261",
   "metadata": {},
   "source": [
    "# LASSO Regression"
   ]
  },
  {
   "cell_type": "code",
   "execution_count": 32,
   "id": "786494d8",
   "metadata": {},
   "outputs": [
    {
     "name": "stdout",
     "output_type": "stream",
     "text": [
      "MSE: TRAINING SET\n",
      "1.736902728711357\n",
      "SCORE: TRAINING SET\n",
      "0.8959372466289643\n",
      "MSE: TESTING SET\n",
      "1.4115135766636477\n",
      "SCORE: TESTING SET\n",
      "0.8927344786039069\n"
     ]
    }
   ],
   "source": [
    "model_lasso = Lasso(alpha=0.01)\n",
    "model_lasso.fit(x_train, y_train) #LASSO REGRESSION\n",
    "\n",
    "\n",
    "pred_train_lasso= model_lasso.predict(x_train)   #PREDICTIONS ON TRAINING SET\n",
    "print('MSE: TRAINING SET')\n",
    "print(np.sqrt(m.mean_squared_error(y_train,pred_train_lasso)))\n",
    "print('SCORE: TRAINING SET')\n",
    "print(r2_score(y_train, pred_train_lasso))\n",
    "\n",
    "pred_test_lasso= model_lasso.predict(x_test)  # PREDICTIONS ON TESTING TEST\n",
    "print('MSE: TESTING SET')\n",
    "print(np.sqrt(m.mean_squared_error(y_test,pred_test_lasso))) \n",
    "print('SCORE: TESTING SET')\n",
    "print(r2_score(y_test, pred_test_lasso))"
   ]
  },
  {
   "cell_type": "code",
   "execution_count": 33,
   "id": "184b274d",
   "metadata": {},
   "outputs": [
    {
     "name": "stdout",
     "output_type": "stream",
     "text": [
      "2.90922799386513\n"
     ]
    }
   ],
   "source": [
    "print(model_lasso.intercept_)"
   ]
  },
  {
   "cell_type": "code",
   "execution_count": 34,
   "id": "72f275a9",
   "metadata": {},
   "outputs": [
    {
     "name": "stdout",
     "output_type": "stream",
     "text": [
      "[0.04684247 0.17850829 0.00257448]\n"
     ]
    }
   ],
   "source": [
    "print(model_lasso.coef_)"
   ]
  },
  {
   "cell_type": "markdown",
   "id": "1c6ab80b",
   "metadata": {},
   "source": [
    "Multiple Linear Rgression- 0.0468431  0.17854434 0.00258619\n",
    "LASSO Regression- 0.04684247 0.17850829 0.00257448\n",
    "Ridge Regression-0.0468431  0.17854429 0.0025862"
   ]
  },
  {
   "cell_type": "markdown",
   "id": "fcb722d8",
   "metadata": {},
   "source": [
    "# LassoCV"
   ]
  },
  {
   "cell_type": "code",
   "execution_count": 35,
   "id": "a8ae67c5",
   "metadata": {},
   "outputs": [
    {
     "name": "stdout",
     "output_type": "stream",
     "text": [
      "MSE: TRAINING SET\n",
      "1.7383018712662366\n",
      "SCORE: TRAINING SET\n",
      "0.8957695259306389\n",
      "MSE: TESTING SET\n",
      "1.429917230190463\n",
      "SCORE: TESTING SET\n",
      "0.8899191365872575\n"
     ]
    }
   ],
   "source": [
    "from sklearn.linear_model import LassoCV\n",
    "lasso_cv = LassoCV(alphas=[0.01, 0.1, 1.0, 10.0])\n",
    "\n",
    "lasso_cv.fit(x_train, y_train) #RIDGE REGRESSION\n",
    "\n",
    "pred_train_lasso_cv= lasso_cv.predict(x_train) #PREDICTIONS ON TRAINING SET\n",
    "\n",
    "print('MSE: TRAINING SET')\n",
    "print(np.sqrt(m.mean_squared_error(y_train,pred_train_lasso_cv)))\n",
    "print('SCORE: TRAINING SET')\n",
    "print(r2_score(y_train, pred_train_lasso_cv))\n",
    "\n",
    "pred_test_lasso_cv= lasso_cv.predict(x_test) # PREDICTIONS ON TESTING TEST\n",
    "\n",
    "print('MSE: TESTING SET')\n",
    "print(np.sqrt(m.mean_squared_error(y_test,pred_test_lasso_cv))) \n",
    "print('SCORE: TESTING SET')\n",
    "print(r2_score(y_test, pred_test_lasso_cv))"
   ]
  },
  {
   "cell_type": "code",
   "execution_count": 36,
   "id": "3e84529a",
   "metadata": {},
   "outputs": [
    {
     "name": "stdout",
     "output_type": "stream",
     "text": [
      "1.0\n"
     ]
    }
   ],
   "source": [
    "print(lasso_cv.alpha_)"
   ]
  },
  {
   "cell_type": "code",
   "execution_count": 37,
   "id": "1b685e9a",
   "metadata": {},
   "outputs": [
    {
     "name": "stdout",
     "output_type": "stream",
     "text": [
      "3.036329724219719\n"
     ]
    }
   ],
   "source": [
    "print(lasso_cv.intercept_)"
   ]
  },
  {
   "cell_type": "code",
   "execution_count": 38,
   "id": "10a66a2a",
   "metadata": {},
   "outputs": [
    {
     "name": "stdout",
     "output_type": "stream",
     "text": [
      "[0.04678152 0.17490187 0.00142624]\n"
     ]
    }
   ],
   "source": [
    "print(lasso_cv.coef_)"
   ]
  },
  {
   "cell_type": "markdown",
   "id": "02877cdc",
   "metadata": {},
   "source": [
    "# RidgeCV"
   ]
  },
  {
   "cell_type": "code",
   "execution_count": 39,
   "id": "387adf25",
   "metadata": {},
   "outputs": [
    {
     "name": "stdout",
     "output_type": "stream",
     "text": [
      "MSE: TRAINING SET\n",
      "1.736902775492528\n",
      "SCORE: TRAINING SET\n",
      "0.8959372410233798\n",
      "MSE: TESTING SET\n",
      "1.411735322105487\n",
      "SCORE: TESTING SET\n",
      "0.8927007736376023\n"
     ]
    }
   ],
   "source": [
    "from sklearn.linear_model import RidgeCV\n",
    "regr_cv = RidgeCV(alphas=[0.01, 0.1, 1, 10.0])\n",
    "\n",
    "regr_cv.fit(x_train, y_train) #RIDGE REGRESSION\n",
    "\n",
    "pred_train_regr_cv= regr_cv.predict(x_train) #PREDICTIONS ON TRAINING SET\n",
    "\n",
    "print('MSE: TRAINING SET')\n",
    "print(np.sqrt(m.mean_squared_error(y_train,pred_train_regr_cv)))\n",
    "print('SCORE: TRAINING SET')\n",
    "print(r2_score(y_train, pred_train_regr_cv))\n",
    "\n",
    "pred_test_regr_cv= regr_cv.predict(x_test) # PREDICTIONS ON TESTING TEST\n",
    "\n",
    "print('MSE: TESTING SET')\n",
    "print(np.sqrt(m.mean_squared_error(y_test,pred_test_regr_cv))) \n",
    "print('SCORE: TESTING SET')\n",
    "print(r2_score(y_test, pred_test_regr_cv))\n"
   ]
  },
  {
   "cell_type": "code",
   "execution_count": 40,
   "id": "7ff81745",
   "metadata": {},
   "outputs": [
    {
     "name": "stdout",
     "output_type": "stream",
     "text": [
      "10.0\n"
     ]
    }
   ],
   "source": [
    "print(regr_cv.alpha_)"
   ]
  },
  {
   "cell_type": "code",
   "execution_count": 41,
   "id": "0f823190",
   "metadata": {},
   "outputs": [
    {
     "name": "stdout",
     "output_type": "stream",
     "text": [
      "2.9087801619554288\n"
     ]
    }
   ],
   "source": [
    "print(regr_cv.intercept_)"
   ]
  },
  {
   "cell_type": "code",
   "execution_count": 42,
   "id": "83b38df2",
   "metadata": {},
   "outputs": [
    {
     "name": "stdout",
     "output_type": "stream",
     "text": [
      "[0.04684319 0.17848636 0.00260306]\n"
     ]
    }
   ],
   "source": [
    "print(regr_cv.coef_)"
   ]
  }
 ],
 "metadata": {
  "kernelspec": {
   "display_name": "Python 3 (ipykernel)",
   "language": "python",
   "name": "python3"
  },
  "language_info": {
   "codemirror_mode": {
    "name": "ipython",
    "version": 3
   },
   "file_extension": ".py",
   "mimetype": "text/x-python",
   "name": "python",
   "nbconvert_exporter": "python",
   "pygments_lexer": "ipython3",
   "version": "3.8.8"
  }
 },
 "nbformat": 4,
 "nbformat_minor": 5
}
