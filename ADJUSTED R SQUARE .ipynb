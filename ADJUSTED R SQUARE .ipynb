{
 "cells": [
  {
   "cell_type": "markdown",
   "id": "2feed5d0",
   "metadata": {},
   "source": [
    "# Adjusted R2 = 1 – [(1-R2)*(n-1)/(n-k-1)]\n",
    "\n",
    "where:\n",
    "\n",
    "R2: The R2 of the model\n",
    "n: The number of observations\n",
    "k: The number of predictor variables"
   ]
  },
  {
   "cell_type": "code",
   "execution_count": 1,
   "id": "8d0c642e",
   "metadata": {},
   "outputs": [
    {
     "name": "stdout",
     "output_type": "stream",
     "text": [
      "               model   mpg  cyl   disp   hp  drat     wt   qsec  vs  am  gear  \\\n",
      "0          Mazda RX4  21.0    6  160.0  110  3.90  2.620  16.46   0   1     4   \n",
      "1      Mazda RX4 Wag  21.0    6  160.0  110  3.90  2.875  17.02   0   1     4   \n",
      "2         Datsun 710  22.8    4  108.0   93  3.85  2.320  18.61   1   1     4   \n",
      "3     Hornet 4 Drive  21.4    6  258.0  110  3.08  3.215  19.44   1   0     3   \n",
      "4  Hornet Sportabout  18.7    8  360.0  175  3.15  3.440  17.02   0   0     3   \n",
      "\n",
      "   carb  \n",
      "0     4  \n",
      "1     4  \n",
      "2     1  \n",
      "3     1  \n",
      "4     2  \n",
      "data.hp: 0     110\n",
      "1     110\n",
      "2      93\n",
      "3     110\n",
      "4     175\n",
      "5     105\n",
      "6     245\n",
      "7      62\n",
      "8      95\n",
      "9     123\n",
      "10    123\n",
      "11    180\n",
      "12    180\n",
      "13    180\n",
      "14    205\n",
      "15    215\n",
      "16    230\n",
      "17     66\n",
      "18     52\n",
      "19     65\n",
      "20     97\n",
      "21    150\n",
      "22    150\n",
      "23    245\n",
      "24    175\n",
      "25     66\n",
      "26     91\n",
      "27    113\n",
      "28    264\n",
      "29    175\n",
      "30    335\n",
      "31    109\n",
      "Name: hp, dtype: int64\n",
      "R square: 0.8072552994570581\n",
      "0.7787005290062519\n"
     ]
    }
   ],
   "source": [
    "from sklearn.linear_model import LinearRegression\n",
    "import pandas as pd\n",
    "\n",
    "#define URL where dataset is located\n",
    "url = \"https://raw.githubusercontent.com/Statology/Python-Guides/main/mtcars.csv\"\n",
    "\n",
    "#read in data\n",
    "data = pd.read_csv(url)\n",
    "print(data.head())\n",
    "#fit regression model\n",
    "model = LinearRegression()\n",
    "print(\"data.hp:\",data.hp)\n",
    "X, y = data[[\"mpg\", \"wt\", \"drat\", \"qsec\"]], data.hp\n",
    "model.fit(X, y)\n",
    "print('R square:',model.score(X, y))\n",
    "#display adjusted R-squared\n",
    "print(1 - (1-model.score(X, y))*(len(y)-1)/(len(y)-X.shape[1]-1))\n",
    "\n",
    "#0.7787005290062521"
   ]
  },
  {
   "cell_type": "markdown",
   "id": "b1cc5b21",
   "metadata": {},
   "source": [
    "mpg - Miles per Gallon\n",
    "\n",
    "cyl - # of cylinders\n",
    "\n",
    "disp - displacement, in cubic inches\n",
    "\n",
    "hp - horsepower\n",
    "\n",
    "drat - driveshaft ratio (don't really KNOW cars, so if you've got questions - you know what to do. :-D\n",
    "\n",
    "wt - weight\n",
    "\n",
    "qsec - 1/4 mile time; a measure of acceleration\n",
    "\n",
    "vs - 'V' or straight - engine shape\n",
    "\n",
    "am - transmission; auto or manual\n",
    "\n",
    "gear - # of gears\n",
    "\n",
    "carb - # of carburetors."
   ]
  },
  {
   "cell_type": "markdown",
   "id": "f7e9b92f",
   "metadata": {},
   "source": [
    "Adjusted R2 = 1 – [(1-R2)*(n-1)/(n-k-1)]\n",
    "\n",
    "where:\n",
    "\n",
    "R2: The R2 of the model\n",
    "n: The number of observations\n",
    "k: The number of predictor variables"
   ]
  },
  {
   "cell_type": "code",
   "execution_count": 3,
   "id": "0d38687c",
   "metadata": {},
   "outputs": [
    {
     "name": "stdout",
     "output_type": "stream",
     "text": [
      "R square: 0.819829000882783\n",
      "0.7851807318217797\n"
     ]
    }
   ],
   "source": [
    "X, y = data[[\"mpg\", \"wt\", \"drat\", \"qsec\",\"gear\"]], data.hp\n",
    "model.fit(X, y)\n",
    "print('R square:',model.score(X, y))\n",
    "#display adjusted R-squared\n",
    "print(1 - (1-model.score(X, y))*(len(y)-1)/(len(y)-X.shape[1]-1))\n"
   ]
  },
  {
   "cell_type": "code",
   "execution_count": 4,
   "id": "dc124505",
   "metadata": {},
   "outputs": [
    {
     "name": "stdout",
     "output_type": "stream",
     "text": [
      "R square: 0.8341218906905915\n",
      "0.7943111444563334\n"
     ]
    }
   ],
   "source": [
    "X, y = data[[\"mpg\", \"wt\", \"drat\", \"qsec\",\"gear\",\"carb\"]], data.hp\n",
    "model.fit(X, y)\n",
    "print('R square:',model.score(X, y))\n",
    "#display adjusted R-squared\n",
    "print(1 - (1-model.score(X, y))*(len(y)-1)/(len(y)-X.shape[1]-1))"
   ]
  },
  {
   "cell_type": "code",
   "execution_count": 5,
   "id": "b6aba2c0",
   "metadata": {},
   "outputs": [
    {
     "name": "stdout",
     "output_type": "stream",
     "text": [
      "R square: 0.8346085339838826\n",
      "0.7863693563958484\n"
     ]
    }
   ],
   "source": [
    "X, y = data[[\"mpg\", \"wt\", \"drat\", \"qsec\",\"gear\",\"carb\",\"am\"]], data.hp\n",
    "model.fit(X, y)\n",
    "print('R square:',model.score(X, y))\n",
    "#display adjusted R-squared\n",
    "print(1 - (1-model.score(X, y))*(len(y)-1)/(len(y)-X.shape[1]-1))"
   ]
  }
 ],
 "metadata": {
  "kernelspec": {
   "display_name": "Python 3 (ipykernel)",
   "language": "python",
   "name": "python3"
  },
  "language_info": {
   "codemirror_mode": {
    "name": "ipython",
    "version": 3
   },
   "file_extension": ".py",
   "mimetype": "text/x-python",
   "name": "python",
   "nbconvert_exporter": "python",
   "pygments_lexer": "ipython3",
   "version": "3.8.8"
  }
 },
 "nbformat": 4,
 "nbformat_minor": 5
}
