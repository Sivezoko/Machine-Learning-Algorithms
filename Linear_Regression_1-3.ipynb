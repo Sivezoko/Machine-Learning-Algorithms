{
 "cells": [
  {
   "cell_type": "markdown",
   "id": "cddc8113",
   "metadata": {},
   "source": [
    "# Linear Regression"
   ]
  },
  {
   "cell_type": "markdown",
   "id": "028836f6",
   "metadata": {},
   "source": [
    "# Use Case: Salary Prediction\n",
    "\n",
    "Problem Statement:\n",
    "\n",
    "Build a model to predict salary based on the number years of experience.\n",
    "\n",
    "\n",
    "\n",
    "Data:\n",
    "\n",
    "Use the Salary_Data dataset and analyse the relationship between YearsExperience and Salary variables using a linear regression."
   ]
  },
  {
   "cell_type": "markdown",
   "id": "b23b9863",
   "metadata": {},
   "source": [
    "# Import Libraries"
   ]
  },
  {
   "cell_type": "code",
   "execution_count": null,
   "id": "0918f14d",
   "metadata": {},
   "outputs": [],
   "source": [
    "import numpy as np\n",
    "import pandas as pd\n",
    "from matplotlib import pyplot as plt\n",
    "import seaborn as sns"
   ]
  },
  {
   "cell_type": "markdown",
   "id": "d28092c5",
   "metadata": {},
   "source": [
    "# Import Dataset"
   ]
  },
  {
   "cell_type": "code",
   "execution_count": null,
   "id": "815ab10e",
   "metadata": {},
   "outputs": [],
   "source": [
    "d1=pd.read_csv('Salary_Data.csv')"
   ]
  },
  {
   "cell_type": "code",
   "execution_count": null,
   "id": "243bdcf2",
   "metadata": {},
   "outputs": [],
   "source": [
    "print(d1)"
   ]
  },
  {
   "cell_type": "markdown",
   "id": "e040e69c",
   "metadata": {},
   "source": [
    "# Exploratory Data Analysis(EDA)"
   ]
  },
  {
   "cell_type": "code",
   "execution_count": null,
   "id": "ec3a246c",
   "metadata": {},
   "outputs": [],
   "source": [
    "d1.head(10)"
   ]
  },
  {
   "cell_type": "code",
   "execution_count": null,
   "id": "ded91f6d",
   "metadata": {},
   "outputs": [],
   "source": [
    "d1.tail()"
   ]
  },
  {
   "cell_type": "code",
   "execution_count": null,
   "id": "6bd325f8",
   "metadata": {},
   "outputs": [],
   "source": [
    "d1.describe()"
   ]
  },
  {
   "cell_type": "code",
   "execution_count": null,
   "id": "11115c8b",
   "metadata": {},
   "outputs": [],
   "source": [
    "d1.info()"
   ]
  },
  {
   "cell_type": "code",
   "execution_count": null,
   "id": "d6aaed88",
   "metadata": {},
   "outputs": [],
   "source": [
    "print(d1.shape)"
   ]
  },
  {
   "cell_type": "code",
   "execution_count": null,
   "id": "1bc2aa78",
   "metadata": {},
   "outputs": [],
   "source": [
    "d1.corr()"
   ]
  },
  {
   "cell_type": "code",
   "execution_count": null,
   "id": "78d2312c",
   "metadata": {},
   "outputs": [],
   "source": [
    "x=d1['YearsExperience']\n",
    "y=d1[\"Salary\"]\n",
    "#x=d1.iloc[:,0]\n",
    "#y=d1.iloc[:,1]\n",
    "plt.plot(x,y,'*')\n",
    "\n",
    "plt.title('YearsExperience vs Salary ')\n",
    "plt.xlabel(\"YearsExperience\")\n",
    "plt.ylabel('Salary ')\n",
    "plt.show()"
   ]
  },
  {
   "cell_type": "code",
   "execution_count": null,
   "id": "aff8b5be",
   "metadata": {},
   "outputs": [],
   "source": [
    "sns.regplot(x=x,y=y,ci=None)"
   ]
  },
  {
   "cell_type": "markdown",
   "id": "958bdbdf",
   "metadata": {},
   "source": [
    "# Splitting Data into Training and Testing Dataset"
   ]
  },
  {
   "cell_type": "code",
   "execution_count": null,
   "id": "96a9a234",
   "metadata": {},
   "outputs": [],
   "source": [
    "# d1--> 30 rows and 2 columns\n",
    "\n",
    "x=d1.iloc[0:30,0:1].values #x=Years of Experience(Independant variable)-->index of column =0\n",
    "y=d1.iloc[0:30,1:2].values #y=Salary (Dependant variable)--->index of column = 1\n",
    "\n",
    "#x=d1.iloc[:,:1].values\n",
    "#y=d1.iloc[:,1].values\n",
    "\n",
    "\n",
    "\n"
   ]
  },
  {
   "cell_type": "markdown",
   "id": "ec6fb49f",
   "metadata": {},
   "source": [
    "d1 is adataframe where, there are 30 rows and 5 columns\n"
   ]
  },
  {
   "cell_type": "code",
   "execution_count": null,
   "id": "733da135",
   "metadata": {},
   "outputs": [],
   "source": [
    "print(x)   # x has 30 records,   x_train (80% data) and x_test (20 % data),  x_train will have 24 records and x_test will have 6 records."
   ]
  },
  {
   "cell_type": "code",
   "execution_count": null,
   "id": "2a7459d8",
   "metadata": {},
   "outputs": [],
   "source": [
    "print(y)"
   ]
  },
  {
   "cell_type": "code",
   "execution_count": null,
   "id": "7073e5cf",
   "metadata": {},
   "outputs": [],
   "source": [
    "from sklearn.model_selection import train_test_split\n",
    "x_train,x_test,y_train,y_test=train_test_split(x,y,test_size=0.2,random_state=0)"
   ]
  },
  {
   "cell_type": "markdown",
   "id": "f7efdb5e",
   "metadata": {},
   "source": [
    "---> x has 30 records i.e. years of experience --->  x_train (80% data) and x_test (20 % data)--->  x_train will have 24 records and x_test will have 6 records.\n",
    "\n",
    "\n",
    "---> y has 30 records i.e. salary ---> y_train (80% data) and y_test (20 % data)---> y_train will have 24 records and y_test will have 6 records."
   ]
  },
  {
   "cell_type": "code",
   "execution_count": null,
   "id": "d6638ea0",
   "metadata": {
    "scrolled": true
   },
   "outputs": [],
   "source": [
    "print(\"x_train\")\n",
    "print(x_train)\n",
    "print(\"x_test\")\n",
    "print(x_test)"
   ]
  },
  {
   "cell_type": "code",
   "execution_count": null,
   "id": "fe22125d",
   "metadata": {},
   "outputs": [],
   "source": [
    "print(x_train.shape)\n",
    "print(x_test.shape)\n",
    "print(y_train.shape)\n",
    "print(y_test.shape)"
   ]
  },
  {
   "cell_type": "code",
   "execution_count": null,
   "id": "3fbb63a5",
   "metadata": {},
   "outputs": [],
   "source": [
    "print(\"X:\",x)\n",
    "\n",
    "print(\"x_train:\",x_train)\n",
    "print(\"x_test\",x_test)"
   ]
  },
  {
   "cell_type": "code",
   "execution_count": null,
   "id": "2c7dc645",
   "metadata": {},
   "outputs": [],
   "source": [
    "print(\"Y:\",y)\n",
    "\n",
    "print(\"y_train:\",y_train)\n",
    "print(\"y_test\",y_test)"
   ]
  },
  {
   "cell_type": "markdown",
   "id": "64301ea4",
   "metadata": {},
   "source": [
    "# Creating Linear Regression Model\n",
    "\n",
    "\n",
    "                                                                                                                     "
   ]
  },
  {
   "cell_type": "markdown",
   "id": "918a00b4",
   "metadata": {},
   "source": [
    "# y=aX+b"
   ]
  },
  {
   "cell_type": "markdown",
   "id": "ec1f131e",
   "metadata": {},
   "source": [
    "Where X=Predictor/Independant variable, \n",
    "Y=Response/Dependant Variable, \n",
    "a= Coefficient and b=Intercept\n",
    "\n",
    "In this example, X is YearsExperience and Y is Salary.\n",
    "\n",
    "Salary=a* Years of Experience +b\n"
   ]
  },
  {
   "cell_type": "code",
   "execution_count": null,
   "id": "680feb78",
   "metadata": {},
   "outputs": [],
   "source": [
    "from sklearn.linear_model import LinearRegression\n",
    "regressor=LinearRegression()\n",
    "regressor.fit(x_train,y_train) # Training the algorithm"
   ]
  },
  {
   "cell_type": "markdown",
   "id": "2800a140",
   "metadata": {},
   "source": [
    "# Interpreting Model Coefficients"
   ]
  },
  {
   "cell_type": "code",
   "execution_count": null,
   "id": "76f167bf",
   "metadata": {},
   "outputs": [],
   "source": [
    "print(regressor.intercept_)"
   ]
  },
  {
   "cell_type": "code",
   "execution_count": null,
   "id": "3e646083",
   "metadata": {},
   "outputs": [],
   "source": [
    "print(regressor.coef_)"
   ]
  },
  {
   "cell_type": "markdown",
   "id": "404a967c",
   "metadata": {},
   "source": [
    "Y=ax+b\n",
    "\n",
    "Salary=9312.57512673(YearsExperience)+26780.099150628186"
   ]
  },
  {
   "cell_type": "markdown",
   "id": "d24bd29d",
   "metadata": {},
   "source": [
    "# Making Predictions with Our Model"
   ]
  },
  {
   "cell_type": "markdown",
   "id": "c6f95e55",
   "metadata": {},
   "source": [
    "x_train=24  (x= years of experience)\n",
    "x_test=6\n",
    "y_train=24   (y=salary)\n",
    "y_test=6"
   ]
  },
  {
   "cell_type": "markdown",
   "id": "db1ea690",
   "metadata": {},
   "source": [
    "x_test [[ 1.5]\n",
    " [10.3]\n",
    " [ 4.1]\n",
    " [ 3.9]\n",
    " [ 9.5]\n",
    " [ 8.7]]\n",
    "\n",
    "y_test [ 37731. 122391.  57081.  63218. 116969. 109431.]"
   ]
  },
  {
   "cell_type": "code",
   "execution_count": null,
   "id": "f2eda3c2",
   "metadata": {},
   "outputs": [],
   "source": [
    "y_pred=regressor.predict(x_test)"
   ]
  },
  {
   "cell_type": "code",
   "execution_count": null,
   "id": "ae0f5ced",
   "metadata": {},
   "outputs": [],
   "source": [
    "print(y_pred)"
   ]
  },
  {
   "cell_type": "markdown",
   "id": "f8c9f7fd",
   "metadata": {},
   "source": [
    "df=pd.DataFrame({'Actual':y_test,'Predicted':y_pred})\n",
    "print(df)"
   ]
  },
  {
   "cell_type": "markdown",
   "id": "337578ef",
   "metadata": {},
   "source": [
    "# Model Evaluation Metrics"
   ]
  },
  {
   "cell_type": "code",
   "execution_count": null,
   "id": "50118e6e",
   "metadata": {},
   "outputs": [],
   "source": [
    "from sklearn import metrics\n",
    "print('Mean Absolute Error',metrics.mean_absolute_error(y_test,y_pred))"
   ]
  },
  {
   "cell_type": "code",
   "execution_count": null,
   "id": "56f9ed22",
   "metadata": {},
   "outputs": [],
   "source": [
    "print('Mean Squared Error',metrics.mean_squared_error(y_test,y_pred))"
   ]
  },
  {
   "cell_type": "code",
   "execution_count": null,
   "id": "5925945b",
   "metadata": {},
   "outputs": [],
   "source": [
    "print('Root Mean Squared Error',np.sqrt(metrics.mean_squared_error(y_test,y_pred)))"
   ]
  },
  {
   "cell_type": "code",
   "execution_count": null,
   "id": "3e0c2fdc",
   "metadata": {},
   "outputs": [],
   "source": [
    "print(x_test)"
   ]
  },
  {
   "cell_type": "markdown",
   "id": "e527ba26",
   "metadata": {},
   "source": [
    "# Mean Absolute Error (MAE)"
   ]
  },
  {
   "cell_type": "markdown",
   "id": "73ef2b9b",
   "metadata": {},
   "source": [
    "# MAE=  [  ∑ abs(actual_value - prdicted_value)  ] / n\n",
    "\n"
   ]
  },
  {
   "cell_type": "markdown",
   "id": "862965de",
   "metadata": {},
   "source": [
    "mi=abs(actual_value-predicted_value)\n",
    "\n",
    "m1=abs(37731.0 - 40748.961841)=3017.961841\n",
    "\n",
    "m2=abs(122391.0 - 122699.622956)=308.6229559\n",
    "\n",
    "m3=abs(57081.0 - 64961.657170)=7880.65717\n",
    "\n",
    "m4=abs(63218.0 - 63099.142145)=118.8578551\n",
    "\n",
    "m5=abs(116969.0 - 115249.562855)=1719.437145\n",
    "\n",
    "m6=abs(109431.0 - 107799.502753)=1631.497247\n",
    "\n",
    "\n",
    "MAE=(m1 + m2 + m3 + m4 + m5 + m6 )/ 6\n",
    "\n",
    "MAE=(3017.961841+308.6229559+7880.65717+118.8578551+1719.437145+1631.497247) / 6\n",
    "\n",
    "MAE=(14677.03421) / 6\n",
    "\n",
    "MAE=2446.172369"
   ]
  },
  {
   "cell_type": "markdown",
   "id": "4f982e2f",
   "metadata": {},
   "source": [
    "# Mean Squared Error (MSE)"
   ]
  },
  {
   "cell_type": "markdown",
   "id": "18fd306c",
   "metadata": {},
   "source": [
    "# MSE= [ ∑ (actual_value - predicted_value)² ] / n"
   ]
  },
  {
   "cell_type": "markdown",
   "id": "d54a6ff2",
   "metadata": {},
   "source": [
    "mi= (actual_value - prdicted_value)²\n",
    "\n",
    "\n",
    "m1= (37731.0 - 40748.961841)² = 9108093.672\n",
    "\n",
    "m2= (122391.0 - 122699.622956)² = 95248.12893\n",
    "\n",
    "m3= (57081.0 - 64961.657170)² = 62104757.43\n",
    "\n",
    "m4= (63218.0 - 63099.142145)² = 14127.18973\n",
    "\n",
    "m5= (116969.0 - 115249.562855)² = 2956464.097\n",
    "\n",
    "m6= (109431.0 - 107799.502753)² = 2661783.266\n",
    "\n",
    "\n",
    "MSE=( m1 + m2 + m3 + m4 + m5 + m6 ) / 6\n",
    "\n",
    "MSE=(9108093.672+95248.12893+62104757.43+14127.18973+2956464.097+2661783.266) / 6\n",
    "\n",
    "MSE=(76940473.79) / 6\n",
    "\n",
    "MSE=12823412.3\n"
   ]
  },
  {
   "cell_type": "markdown",
   "id": "e98f02e1",
   "metadata": {},
   "source": [
    "# Root Mean Squared Error (RMSE)"
   ]
  },
  {
   "cell_type": "markdown",
   "id": "9ad9cc32",
   "metadata": {},
   "source": [
    "RMSE= SQRT(MSE)\n",
    "RMSE= SQRT(12823412.3)\n",
    "RMSE= 3580.979237"
   ]
  },
  {
   "cell_type": "markdown",
   "id": "bd645cbb",
   "metadata": {},
   "source": [
    "# R-Squared"
   ]
  },
  {
   "cell_type": "code",
   "execution_count": null,
   "id": "ae633c41",
   "metadata": {},
   "outputs": [],
   "source": [
    "train_score_lr = regressor.score(x_train, y_train)\n",
    "test_score_lr = regressor.score(x_test, y_test)\n",
    "\n",
    "print(\"The train score for lr model is: \", train_score_lr)\n",
    "print(\"The test score for lr model is: \",test_score_lr)\n",
    "\n"
   ]
  },
  {
   "cell_type": "code",
   "execution_count": null,
   "id": "a0f944a0",
   "metadata": {},
   "outputs": [],
   "source": [
    "train_score_lr = regressor.score(x_train, y_train)\n",
    "test_score_lr = regressor.score(x_test, y_test)\n",
    "\n",
    "print(\"The train score for lr model is: \", train_score_lr)\n",
    "print(\"The test score for lr model is: \",test_score_lr)\n",
    "\n"
   ]
  },
  {
   "cell_type": "code",
   "execution_count": null,
   "id": "a492bcb8",
   "metadata": {},
   "outputs": [],
   "source": [
    "actual_minus_predicted = sum((y_test - y_pred)**2)\n",
    "actual_minus_actual_mean = sum((y_test - y_test.mean())**2)\n",
    "r2 = 1 - actual_minus_predicted/actual_minus_actual_mean\n",
    "print('R²:', r2)"
   ]
  },
  {
   "cell_type": "markdown",
   "id": "88986dbd",
   "metadata": {},
   "source": [
    "37731+MSE=37731+3581=41312\n",
    "37731+3581"
   ]
  },
  {
   "cell_type": "code",
   "execution_count": null,
   "id": "9e4148a8",
   "metadata": {},
   "outputs": [],
   "source": [
    "plt.plot(x_test,y_test,'o')\n",
    "\n",
    "plt.title('YearsExperience vs Salary ')\n",
    "plt.xlabel(\"YearsExperience\")\n",
    "plt.ylabel('Salary ')\n",
    "plt.show()"
   ]
  },
  {
   "cell_type": "code",
   "execution_count": null,
   "id": "e0653058",
   "metadata": {},
   "outputs": [],
   "source": [
    "sns.regplot(x=x_test,y=y_test,ci=None)"
   ]
  },
  {
   "cell_type": "code",
   "execution_count": null,
   "id": "23c0087d",
   "metadata": {},
   "outputs": [],
   "source": []
  },
  {
   "cell_type": "code",
   "execution_count": null,
   "id": "d733e447",
   "metadata": {},
   "outputs": [],
   "source": []
  },
  {
   "cell_type": "code",
   "execution_count": null,
   "id": "1639e128",
   "metadata": {},
   "outputs": [],
   "source": []
  },
  {
   "cell_type": "code",
   "execution_count": null,
   "id": "eaf9fc92",
   "metadata": {},
   "outputs": [],
   "source": []
  }
 ],
 "metadata": {
  "kernelspec": {
   "display_name": "Python 3 (ipykernel)",
   "language": "python",
   "name": "python3"
  },
  "language_info": {
   "codemirror_mode": {
    "name": "ipython",
    "version": 3
   },
   "file_extension": ".py",
   "mimetype": "text/x-python",
   "name": "python",
   "nbconvert_exporter": "python",
   "pygments_lexer": "ipython3",
   "version": "3.8.8"
  }
 },
 "nbformat": 4,
 "nbformat_minor": 5
}
